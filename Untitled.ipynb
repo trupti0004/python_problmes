{
 "cells": [
  {
   "cell_type": "code",
   "execution_count": 1,
   "id": "8c7932e8",
   "metadata": {},
   "outputs": [
    {
     "name": "stdout",
     "output_type": "stream",
     "text": [
      "enter radius of circle13\n",
      "530.929158456675\n"
     ]
    }
   ],
   "source": [
    "import numpy as np\n",
    "r=float(input(\"enter radius of circle\"))\n",
    "A=np.pi*r*r\n",
    "print(A)"
   ]
  },
  {
   "cell_type": "code",
   "execution_count": 5,
   "id": "f481964a",
   "metadata": {},
   "outputs": [
    {
     "name": "stdout",
     "output_type": "stream",
     "text": [
      "enter name:trupti\n",
      "enter surname:sawant\n"
     ]
    },
    {
     "data": {
      "text/plain": [
       "'sawant trupti'"
      ]
     },
     "execution_count": 5,
     "metadata": {},
     "output_type": "execute_result"
    }
   ],
   "source": [
    "def surname_name():\n",
    "    name=(input(\"enter name:\"))\n",
    "    surname=(input(\"enter surname:\"))\n",
    "    return(surname+\" \"+name)\n",
    "surname_name()"
   ]
  },
  {
   "cell_type": "code",
   "execution_count": 3,
   "id": "7446f053",
   "metadata": {},
   "outputs": [
    {
     "name": "stdout",
     "output_type": "stream",
     "text": [
      "enter a number45\n",
      "56\n"
     ]
    }
   ],
   "source": [
    "a=int(input(\"enter a number\"))\n",
    "b=a-17\n",
    "if b>17:\n",
    "    print(abs(2*b))\n",
    "else:\n",
    "    print(b)"
   ]
  },
  {
   "cell_type": "code",
   "execution_count": 7,
   "id": "6f4d3b98",
   "metadata": {},
   "outputs": [],
   "source": [
    "def check_number():\n",
    "    a=float(input(\"enter a number:\"))\n",
    "    if a>=100 and a<1000:\n",
    "        print(\"number is between 100 and 1000\")\n",
    "    elif a>=1000 and a<2000:\n",
    "        print(\"number is between 1000 and 2000\")\n",
    "    elif a>=2000:\n",
    "        print(\"number is grater than or equal to 2000\")\n",
    "    else:\n",
    "        print(\"number is less than 100\")"
   ]
  },
  {
   "cell_type": "code",
   "execution_count": 9,
   "id": "44b9a314",
   "metadata": {},
   "outputs": [
    {
     "name": "stdout",
     "output_type": "stream",
     "text": [
      "enter a number:19\n",
      "number is less than 100\n"
     ]
    }
   ],
   "source": [
    "check_number()"
   ]
  },
  {
   "cell_type": "code",
   "execution_count": 10,
   "id": "23113400",
   "metadata": {},
   "outputs": [
    {
     "name": "stdout",
     "output_type": "stream",
     "text": [
      "enter a number:501\n",
      "number is between 100 and 1000\n"
     ]
    }
   ],
   "source": [
    "check_number()\n"
   ]
  },
  {
   "cell_type": "code",
   "execution_count": 11,
   "id": "29ed8cba",
   "metadata": {},
   "outputs": [
    {
     "name": "stdout",
     "output_type": "stream",
     "text": [
      "enter a number:1067\n",
      "number is between 1000 and 2000\n"
     ]
    }
   ],
   "source": [
    "check_number()"
   ]
  },
  {
   "cell_type": "code",
   "execution_count": 12,
   "id": "ce71b62b",
   "metadata": {},
   "outputs": [
    {
     "name": "stdout",
     "output_type": "stream",
     "text": [
      "enter a number:20000\n",
      "number is grater than or equal to 2000\n"
     ]
    }
   ],
   "source": [
    "check_number()"
   ]
  },
  {
   "cell_type": "code",
   "execution_count": null,
   "id": "c175ad95",
   "metadata": {},
   "outputs": [],
   "source": []
  },
  {
   "cell_type": "code",
   "execution_count": null,
   "id": "8a3820f2",
   "metadata": {},
   "outputs": [],
   "source": []
  }
 ],
 "metadata": {
  "kernelspec": {
   "display_name": "Python 3 (ipykernel)",
   "language": "python",
   "name": "python3"
  },
  "language_info": {
   "codemirror_mode": {
    "name": "ipython",
    "version": 3
   },
   "file_extension": ".py",
   "mimetype": "text/x-python",
   "name": "python",
   "nbconvert_exporter": "python",
   "pygments_lexer": "ipython3",
   "version": "3.11.5"
  }
 },
 "nbformat": 4,
 "nbformat_minor": 5
}
